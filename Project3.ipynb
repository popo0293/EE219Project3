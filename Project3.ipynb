{
 "cells": [
  {
   "cell_type": "code",
   "execution_count": 1,
   "metadata": {},
   "outputs": [
    {
     "name": "stdout",
     "output_type": "stream",
     "text": [
      "   userId  movieId  rating\n",
      "0       1       31     2.5\n",
      "1       1     1029     3.0\n",
      "2       1     1061     3.0\n",
      "3       1     1129     2.0\n",
      "4       1     1172     4.0\n",
      "(number of users, number of rated movies):  (671, 9066)\n"
     ]
    }
   ],
   "source": [
    "import pandas as pd\n",
    "import numpy as np\n",
    "import matplotlib.pyplot as plt\n",
    "\n",
    "# load data\n",
    "r_data = pd.read_csv('data/ratings.csv', header=0, usecols=[0, 1, 2])\n",
    "print(r_data.head())\n",
    "R = r_data.pivot_table(index='userId', columns='movieId', values='rating', fill_value=0).values\n",
    "print(\"(number of users, number of rated movies): \", R.shape)\n"
   ]
  },
  {
   "cell_type": "code",
   "execution_count": 2,
   "metadata": {},
   "outputs": [
    {
     "name": "stdout",
     "output_type": "stream",
     "text": [
      "Matrix sparsity = 0.0164\n"
     ]
    }
   ],
   "source": [
    "# Question 1\n",
    "user_count = R.shape[0]\n",
    "movie_count = R.shape[1]\n",
    "max_rating_count = user_count*movie_count\n",
    "rating_count = r_data.size/3\n",
    "sparsity = rating_count*1.0/max_rating_count\n",
    "print(\"Matrix sparsity = %0.4f\" % sparsity)"
   ]
  },
  {
   "cell_type": "code",
   "execution_count": 6,
   "metadata": {},
   "outputs": [
    {
     "data": {
      "image/png": "[encoded data removed]",
      "text/plain": [
       "<matplotlib.figure.Figure at 0x1cd6ad40208>"
      ]
     },
     "metadata": {},
     "output_type": "display_data"
    }
   ],
   "source": [
    "# Question 2\n",
    "plt.figure()\n",
    "ax = plt.subplot(111)\n",
    "ratings = r_data.rating.tolist()\n",
    "xrange = np.arange(0, 5.5, 0.5)\n",
    "ax.hist(ratings, bins=xrange)\n",
    "ax.set_xticks(xrange)\n",
    "ax.set_title(\"Frequency of rating values\")\n",
    "ax.set_xlabel(\"rating values\")\n",
    "ax.set_ylabel(\"movie count\")\n",
    "plt.show()"
   ]
  },
  {
   "cell_type": "code",
   "execution_count": 9,
   "metadata": {},
   "outputs": [
    {
     "data": {
      "image/png": "[encoded data removed]",
      "text/plain": [
       "<matplotlib.figure.Figure at 0x1cd6ae260f0>"
      ]
     },
     "metadata": {},
     "output_type": "display_data"
    }
   ],
   "source": [
    "# Question 3\n",
    "plt.figure()\n",
    "movie_rating_count = np.count_nonzero(R, axis=0)\n",
    "sorted_mrc = sorted(movie_rating_count, reverse=True)\n",
    "ax = plt.subplot(111)\n",
    "ax.plot(range(len(movie_rating_count)), sorted_mrc, '-')\n",
    "ax.set_title(\"Distribution of ratings among movies\")\n",
    "ax.set_xlabel(\"most reviewed to least reviewed\")\n",
    "ax.set_ylabel(\"rating count\")\n",
    "plt.show()"
   ]
  },
  {
   "cell_type": "code",
   "execution_count": null,
   "metadata": {
    "collapsed": true
   },
   "outputs": [],
   "source": [
    "# Question 4\n",
    "plt.figure()\n",
    "user_rating_count = np.count_nonzero(R, axis=1)\n",
    "sorted_urc = sorted(user_rating_count, reverse=True)\n",
    "ax = plt.subplot(111)\n",
    "ax.plot(range(len(user_rating_count)), sorted_urc, '-')\n",
    "ax.title(\"Distribution of ratings among users\")\n",
    "ax.set_xlabel(\"most active to least active\")\n",
    "ax.set_ylabel(\"rating count\")\n",
    "plt.show()"
   ]
  },
  {
   "cell_type": "markdown",
   "metadata": {},
   "source": [
    "### Question 5\n",
    "ToDo: Explain the salient features of the distribution found in question 3 and their implications for the recommendation process."
   ]
  },
  {
   "cell_type": "code",
   "execution_count": null,
   "metadata": {
    "collapsed": true
   },
   "outputs": [],
   "source": [
    "# Question 6\n",
    "plt.figure()\n",
    "ax = plt.subplot(111)\n",
    "movie_var = np.var(R, axis=0)\n",
    "var_range = np.arange(min(movie_var), max(movie_var)+0.5, 0.5)\n",
    "ax.hist(movie_var, bins=var_range)\n",
    "ax.set_xticks(xrange)\n",
    "plt.show()"
   ]
  }
 ],
 "metadata": {
  "kernelspec": {
   "display_name": "Python 3",
   "language": "python",
   "name": "python3"
  },
  "language_info": {
   "codemirror_mode": {
    "name": "ipython",
    "version": 3
   },
   "file_extension": ".py",
   "mimetype": "text/x-python",
   "name": "python",
   "nbconvert_exporter": "python",
   "pygments_lexer": "ipython3",
   "version": "3.6.3"
  }
 },
 "nbformat": 4,
 "nbformat_minor": 1
}
